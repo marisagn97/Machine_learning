{
 "cells": [
  {
   "cell_type": "code",
   "execution_count": 3,
   "id": "3d86f898",
   "metadata": {},
   "outputs": [],
   "source": [
    "import seaborn as sns\n",
    "import matplotlib.pyplot as plt\n",
    "import numpy as np\n",
    "import pandas as pd\n",
    "import scipy.stats as ss"
   ]
  },
  {
   "cell_type": "code",
   "execution_count": null,
   "id": "24e0aa2c",
   "metadata": {},
   "outputs": [],
   "source": [
    "def plot_feature_importance(importance,names,model_type):\n",
    "    \n",
    "   #Create arrays from feature importance and feature names\n",
    "   feature_importance = np.array(importance)\n",
    "   feature_names = np.array(names)\n",
    "\n",
    "   #Create a DataFrame using a Dictionary\n",
    "   data={'feature_names':feature_names,'feature_importance':feature_importance}\n",
    "   fi_df = pd.DataFrame(data)\n",
    "\n",
    "   #Sort the DataFrame in order decreasing feature importance\n",
    "   fi_df.sort_values(by=['feature_importance'], ascending=False,inplace=True)\n",
    "\n",
    "   #Define size of bar plot\n",
    "   plt.figure(figsize=(20,25))\n",
    "   #Plot Searborn bar chart\n",
    "   sns.barplot(x=fi_df['feature_importance'], y=fi_df['feature_names'])\n",
    "   #Add chart labels\n",
    "   plt.title(model_type + 'FEATURE IMPORTANCE')\n",
    "   plt.xlabel('FEATURE IMPORTANCE')\n",
    "   plt.ylabel('FEATURE NAMES')"
   ]
  },
  {
   "cell_type": "code",
   "execution_count": 4,
   "id": "ca65f8cc",
   "metadata": {},
   "outputs": [],
   "source": [
    "def cramers_v(z, t, df=None):\n",
    "    x=df[z]\n",
    "    y=df[t]\n",
    "    confusion_matrix = pd.crosstab(x,y)\n",
    "    confusion_matrix=confusion_matrix.values\n",
    "    chi2 = ss.chi2_contingency(confusion_matrix)[0]\n",
    "    n = confusion_matrix.sum().sum()\n",
    "    phi2 = chi2/n\n",
    "    r,k = confusion_matrix.shape\n",
    "    phi2corr = max(0, phi2-((k-1)*(r-1))/(n-1))\n",
    "    rcorr = r-((r-1)**2)/(n-1)\n",
    "    kcorr = k-((k-1)**2)/(n-1)\n",
    "    c=np.sqrt(phi2corr/min((kcorr-1),(rcorr-1)))\n",
    "    print('La correlación de' ,z, 'y' ,t, 'es' ,c)"
   ]
  },
  {
   "cell_type": "code",
   "execution_count": 5,
   "id": "bc2af41e",
   "metadata": {},
   "outputs": [],
   "source": [
    "def true_false(var,df=None):\n",
    "    cols=['Col','Var','True', 'False']\n",
    "    TF= pd.DataFrame(columns = cols)\n",
    "    for x in df[var].unique():\n",
    "        TF=TF.append({'Col':var,'Var':x, 'True':100*(df[var][df[var]==x][df.C_SEV==True].count())/df[var][df[var]==x].count(), 'False':100*(df[var][df[var]==x][df.C_SEV==False].count())/df[var][df[var]==x].count()}, ignore_index=True)\n",
    "    TF.set_index('Col', inplace=True)\n",
    "    TF=TF.sort_values(by=[\"True\", \"False\"], ascending=False)\n",
    "    return TF"
   ]
  },
  {
   "cell_type": "code",
   "execution_count": 6,
   "id": "0bba8b39",
   "metadata": {},
   "outputs": [],
   "source": [
    "def count_tipo(var,df=None,grafico=False):\n",
    "    cols=['Col','Var','count','perc']\n",
    "    CT= pd.DataFrame(columns = cols)\n",
    "    for x in df[var].unique():\n",
    "        CT=CT.append({'Col':var,'Var':x, 'count':df[var][df[var]==x].count(), 'perc':df[var][df[var]==x].count()*100/df[var].count()}, ignore_index=True)\n",
    "    CT.set_index('Col', inplace=True)\n",
    "    CT=CT.sort_values(by=[\"count\"], ascending=False)\n",
    "    if grafico==True:\n",
    "        print(CT)\n",
    "        CT.head(10).plot.bar()\n",
    "    else:\n",
    "        return(CT)"
   ]
  },
  {
   "cell_type": "code",
   "execution_count": 7,
   "id": "37622467",
   "metadata": {},
   "outputs": [],
   "source": [
    "def porc_TF_mascomun(var,df=None,n=5):\n",
    "    T=true_false(var,df)\n",
    "    Z=count_tipo(var,df)\n",
    "    T=T.merge(Z,on='Var').set_axis(T.index)\n",
    "    T=T.sort_values(by=[\"count\"], ascending=False)\n",
    "    p=Z.head(n)\n",
    "    return(T[T['Var'].isin(p.Var)])"
   ]
  },
  {
   "cell_type": "code",
   "execution_count": 8,
   "id": "feb7e23e",
   "metadata": {},
   "outputs": [],
   "source": [
    "def na_var(var,df):\n",
    "    z=df[var].isna().sum()\n",
    "    print('\\nvariable:' ,var, 'Número de na:',z)"
   ]
  },
  {
   "cell_type": "code",
   "execution_count": 9,
   "id": "15e03d86",
   "metadata": {},
   "outputs": [],
   "source": [
    "def dame_variables_categoricas2(dataset=None):\n",
    "    '''\n",
    "    ----------------------------------------------------------------------------------------------------------\n",
    "    Función dame_variables_categoricas:\n",
    "    ----------------------------------------------------------------------------------------------------------\n",
    "        -Descripción: Función que recibe un dataset y devuelve una lista con los nombres de las \n",
    "        variables categóricas\n",
    "        -Inputs: \n",
    "            -- dataset: Pandas dataframe que contiene los datos\n",
    "        -Return:\n",
    "            -- lista_variables_categoricas: lista con los nombres de las variables categóricas del\n",
    "            dataset de entrada\n",
    "    '''\n",
    "    if dataset is None:\n",
    "        print(u'\\nFaltan argumentos por pasar a la función')\n",
    "        return 1\n",
    "    lista_variables_categoricas = []\n",
    "    other = []\n",
    "    for i in dataset.columns:\n",
    "        if (dataset[i].dtype!='float64') & (dataset[i].dtype!='int64') & (dataset[i].dtype!='bool'):\n",
    "                lista_variables_categoricas.append(i)\n",
    "        else:\n",
    "                other.append(i)\n",
    "\n",
    "    return lista_variables_categoricas, other"
   ]
  },
  {
   "cell_type": "code",
   "execution_count": 10,
   "id": "dd3dd132",
   "metadata": {},
   "outputs": [],
   "source": [
    "def plot_feature(df,col_name, isContinuous):\n",
    "    \"\"\"\n",
    "    Visualize a variable with and without faceting on the loan status.\n",
    "    - col_name is the variable name in the dataframe\n",
    "    - full_name is the full variable name\n",
    "    - continuous is True if the variable is continuous, False otherwise\n",
    "    \"\"\"\n",
    "    f, (ax1, ax2) = plt.subplots(nrows=1, ncols=2, figsize=(12,3), dpi=90)\n",
    "    \n",
    "\n",
    "    if isContinuous:\n",
    "        sns.histplot(df.loc[df[col_name].notnull(), col_name], kde=False, ax=ax1)\n",
    "    else:\n",
    "        sns.countplot(df[col_name], color='#5975A4', saturation=1, ax=ax1) # order=sorted(df[col_name].unique()),\n",
    "    ax1.set_xlabel(col_name)\n",
    "    ax1.set_ylabel('Count')\n",
    "    ax1.set_title(col_name)\n",
    "    plt.xticks(rotation = 90)\n",
    "\n",
    "    if isContinuous:\n",
    "        sns.boxplot(y=col_name, x='C_SEV', data=df, ax=ax2)\n",
    "        ax2.set_ylabel(col_name)\n",
    "        ax2.set_xlabel('')\n",
    "        ax2.set_title(col_name + ' by C_SEV')\n",
    "    else:\n",
    "        data = df.groupby(col_name)['C_SEV'].value_counts(normalize=True).to_frame('proportion').reset_index()\n",
    "        data.columns = [col_name, 'C_SEV', 'proportion']\n",
    "        sns.barplot(x = col_name, y = 'proportion', hue= \"C_SEV\", data = data, saturation=1, ax=ax2)\n",
    "        ax2.set_ylabel('C_SEV fraction')\n",
    "        ax2.set_title('C_SEV')\n",
    "        plt.xticks(rotation = 90)\n",
    "        ax2.set_xlabel(col_name)\n",
    "    \n",
    "    plt.tight_layout()"
   ]
  },
  {
   "cell_type": "code",
   "execution_count": 11,
   "id": "50eab567",
   "metadata": {},
   "outputs": [],
   "source": [
    "def get_corr_matrix(dataset = None, metodo='pearson', size_figure=[10,8]):\n",
    "    # Para obtener la correlación de Spearman, sólo cambiar el metodo por 'spearman'\n",
    "\n",
    "    if dataset is None:\n",
    "        print(u'\\nHace falta pasar argumentos a la función')\n",
    "        return 1\n",
    "    sns.set(style=\"white\")\n",
    "    # Compute the correlation matrix\n",
    "    corr = dataset.corr(method=metodo) \n",
    "    # Set self-correlation to zero to avoid distraction\n",
    "    for i in range(corr.shape[0]):\n",
    "        corr.iloc[i, i] = 0\n",
    "    # Set up the matplotlib figure\n",
    "    f, ax = plt.subplots(figsize=size_figure)\n",
    "    # Draw the heatmap with the mask and correct aspect ratio\n",
    "    #Generamos una máscara para evitar tener un espejo en la parte superior de la gráfica y simplificar la observación\n",
    "    mask = np.zeros_like(corr)\n",
    "    mask[np.triu_indices_from(mask)] = True\n",
    "    \n",
    "    sns.heatmap(corr, center=0,\n",
    "                square=True, linewidths=.5, annot=True, cmap ='viridis', mask=mask) #cbar_kws={\"shrink\": .5}\n",
    "    plt.show()\n",
    "    \n",
    "    return 0"
   ]
  }
 ],
 "metadata": {
  "kernelspec": {
   "display_name": "Python [conda env:pl0]",
   "language": "python",
   "name": "conda-env-pl0-py"
  },
  "language_info": {
   "codemirror_mode": {
    "name": "ipython",
    "version": 3
   },
   "file_extension": ".py",
   "mimetype": "text/x-python",
   "name": "python",
   "nbconvert_exporter": "python",
   "pygments_lexer": "ipython3",
   "version": "3.9.7"
  }
 },
 "nbformat": 4,
 "nbformat_minor": 5
}
